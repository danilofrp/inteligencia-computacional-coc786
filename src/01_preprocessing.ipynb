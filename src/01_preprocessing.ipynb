{
 "cells": [
  {
   "cell_type": "code",
   "execution_count": 1,
   "metadata": {},
   "outputs": [],
   "source": [
    "import sys, os\n",
    "import calendar\n",
    "import numpy as np\n",
    "import pandas as pd\n",
    "import matplotlib.pyplot as plt\n",
    "import seaborn as sns"
   ]
  },
  {
   "cell_type": "markdown",
   "metadata": {},
   "source": [
    "### Load Dataset"
   ]
  },
  {
   "cell_type": "code",
   "execution_count": 2,
   "metadata": {},
   "outputs": [
    {
     "data": {
      "text/html": [
       "<div>\n",
       "<style scoped>\n",
       "    .dataframe tbody tr th:only-of-type {\n",
       "        vertical-align: middle;\n",
       "    }\n",
       "\n",
       "    .dataframe tbody tr th {\n",
       "        vertical-align: top;\n",
       "    }\n",
       "\n",
       "    .dataframe thead th {\n",
       "        text-align: right;\n",
       "    }\n",
       "</style>\n",
       "<table border=\"1\" class=\"dataframe\">\n",
       "  <thead>\n",
       "    <tr style=\"text-align: right;\">\n",
       "      <th></th>\n",
       "      <th>age</th>\n",
       "      <th>job</th>\n",
       "      <th>marital</th>\n",
       "      <th>education</th>\n",
       "      <th>default</th>\n",
       "      <th>housing</th>\n",
       "      <th>loan</th>\n",
       "      <th>contact</th>\n",
       "      <th>month</th>\n",
       "      <th>day_of_week</th>\n",
       "      <th>...</th>\n",
       "      <th>campaign</th>\n",
       "      <th>pdays</th>\n",
       "      <th>previous</th>\n",
       "      <th>poutcome</th>\n",
       "      <th>emp.var.rate</th>\n",
       "      <th>cons.price.idx</th>\n",
       "      <th>cons.conf.idx</th>\n",
       "      <th>euribor3m</th>\n",
       "      <th>nr.employed</th>\n",
       "      <th>y</th>\n",
       "    </tr>\n",
       "  </thead>\n",
       "  <tbody>\n",
       "    <tr>\n",
       "      <th>0</th>\n",
       "      <td>56</td>\n",
       "      <td>housemaid</td>\n",
       "      <td>married</td>\n",
       "      <td>basic.4y</td>\n",
       "      <td>no</td>\n",
       "      <td>no</td>\n",
       "      <td>no</td>\n",
       "      <td>telephone</td>\n",
       "      <td>may</td>\n",
       "      <td>mon</td>\n",
       "      <td>...</td>\n",
       "      <td>1</td>\n",
       "      <td>999</td>\n",
       "      <td>0</td>\n",
       "      <td>nonexistent</td>\n",
       "      <td>1.1</td>\n",
       "      <td>93.994</td>\n",
       "      <td>-36.4</td>\n",
       "      <td>4.857</td>\n",
       "      <td>5191.0</td>\n",
       "      <td>no</td>\n",
       "    </tr>\n",
       "    <tr>\n",
       "      <th>1</th>\n",
       "      <td>57</td>\n",
       "      <td>services</td>\n",
       "      <td>married</td>\n",
       "      <td>high.school</td>\n",
       "      <td>unknown</td>\n",
       "      <td>no</td>\n",
       "      <td>no</td>\n",
       "      <td>telephone</td>\n",
       "      <td>may</td>\n",
       "      <td>mon</td>\n",
       "      <td>...</td>\n",
       "      <td>1</td>\n",
       "      <td>999</td>\n",
       "      <td>0</td>\n",
       "      <td>nonexistent</td>\n",
       "      <td>1.1</td>\n",
       "      <td>93.994</td>\n",
       "      <td>-36.4</td>\n",
       "      <td>4.857</td>\n",
       "      <td>5191.0</td>\n",
       "      <td>no</td>\n",
       "    </tr>\n",
       "    <tr>\n",
       "      <th>2</th>\n",
       "      <td>37</td>\n",
       "      <td>services</td>\n",
       "      <td>married</td>\n",
       "      <td>high.school</td>\n",
       "      <td>no</td>\n",
       "      <td>yes</td>\n",
       "      <td>no</td>\n",
       "      <td>telephone</td>\n",
       "      <td>may</td>\n",
       "      <td>mon</td>\n",
       "      <td>...</td>\n",
       "      <td>1</td>\n",
       "      <td>999</td>\n",
       "      <td>0</td>\n",
       "      <td>nonexistent</td>\n",
       "      <td>1.1</td>\n",
       "      <td>93.994</td>\n",
       "      <td>-36.4</td>\n",
       "      <td>4.857</td>\n",
       "      <td>5191.0</td>\n",
       "      <td>no</td>\n",
       "    </tr>\n",
       "    <tr>\n",
       "      <th>3</th>\n",
       "      <td>40</td>\n",
       "      <td>admin.</td>\n",
       "      <td>married</td>\n",
       "      <td>basic.6y</td>\n",
       "      <td>no</td>\n",
       "      <td>no</td>\n",
       "      <td>no</td>\n",
       "      <td>telephone</td>\n",
       "      <td>may</td>\n",
       "      <td>mon</td>\n",
       "      <td>...</td>\n",
       "      <td>1</td>\n",
       "      <td>999</td>\n",
       "      <td>0</td>\n",
       "      <td>nonexistent</td>\n",
       "      <td>1.1</td>\n",
       "      <td>93.994</td>\n",
       "      <td>-36.4</td>\n",
       "      <td>4.857</td>\n",
       "      <td>5191.0</td>\n",
       "      <td>no</td>\n",
       "    </tr>\n",
       "    <tr>\n",
       "      <th>4</th>\n",
       "      <td>56</td>\n",
       "      <td>services</td>\n",
       "      <td>married</td>\n",
       "      <td>high.school</td>\n",
       "      <td>no</td>\n",
       "      <td>no</td>\n",
       "      <td>yes</td>\n",
       "      <td>telephone</td>\n",
       "      <td>may</td>\n",
       "      <td>mon</td>\n",
       "      <td>...</td>\n",
       "      <td>1</td>\n",
       "      <td>999</td>\n",
       "      <td>0</td>\n",
       "      <td>nonexistent</td>\n",
       "      <td>1.1</td>\n",
       "      <td>93.994</td>\n",
       "      <td>-36.4</td>\n",
       "      <td>4.857</td>\n",
       "      <td>5191.0</td>\n",
       "      <td>no</td>\n",
       "    </tr>\n",
       "  </tbody>\n",
       "</table>\n",
       "<p>5 rows × 21 columns</p>\n",
       "</div>"
      ],
      "text/plain": [
       "   age        job  marital    education  default housing loan    contact  \\\n",
       "0   56  housemaid  married     basic.4y       no      no   no  telephone   \n",
       "1   57   services  married  high.school  unknown      no   no  telephone   \n",
       "2   37   services  married  high.school       no     yes   no  telephone   \n",
       "3   40     admin.  married     basic.6y       no      no   no  telephone   \n",
       "4   56   services  married  high.school       no      no  yes  telephone   \n",
       "\n",
       "  month day_of_week  ...  campaign  pdays  previous     poutcome emp.var.rate  \\\n",
       "0   may         mon  ...         1    999         0  nonexistent          1.1   \n",
       "1   may         mon  ...         1    999         0  nonexistent          1.1   \n",
       "2   may         mon  ...         1    999         0  nonexistent          1.1   \n",
       "3   may         mon  ...         1    999         0  nonexistent          1.1   \n",
       "4   may         mon  ...         1    999         0  nonexistent          1.1   \n",
       "\n",
       "   cons.price.idx  cons.conf.idx  euribor3m  nr.employed   y  \n",
       "0          93.994          -36.4      4.857       5191.0  no  \n",
       "1          93.994          -36.4      4.857       5191.0  no  \n",
       "2          93.994          -36.4      4.857       5191.0  no  \n",
       "3          93.994          -36.4      4.857       5191.0  no  \n",
       "4          93.994          -36.4      4.857       5191.0  no  \n",
       "\n",
       "[5 rows x 21 columns]"
      ]
     },
     "execution_count": 2,
     "metadata": {},
     "output_type": "execute_result"
    }
   ],
   "source": [
    "filepath = os.path.join(\"..\", \"data\", \"bank-additional\", \"bank-additional-full.csv\")\n",
    "df = pd.read_csv(filepath, sep = \";\")\n",
    "df.head()"
   ]
  },
  {
   "cell_type": "code",
   "execution_count": 3,
   "metadata": {},
   "outputs": [
    {
     "data": {
      "text/plain": [
       "Index(['age', 'job', 'marital', 'education', 'default', 'housing', 'loan',\n",
       "       'contact', 'month', 'day_of_week', 'duration', 'campaign', 'pdays',\n",
       "       'previous', 'poutcome', 'emp.var.rate', 'cons.price.idx',\n",
       "       'cons.conf.idx', 'euribor3m', 'nr.employed', 'y'],\n",
       "      dtype='object')"
      ]
     },
     "execution_count": 3,
     "metadata": {},
     "output_type": "execute_result"
    }
   ],
   "source": [
    "df.columns"
   ]
  },
  {
   "cell_type": "markdown",
   "metadata": {},
   "source": [
    "### Change target col to binary numeric column"
   ]
  },
  {
   "cell_type": "code",
   "execution_count": 4,
   "metadata": {},
   "outputs": [
    {
     "data": {
      "text/html": [
       "<div>\n",
       "<style scoped>\n",
       "    .dataframe tbody tr th:only-of-type {\n",
       "        vertical-align: middle;\n",
       "    }\n",
       "\n",
       "    .dataframe tbody tr th {\n",
       "        vertical-align: top;\n",
       "    }\n",
       "\n",
       "    .dataframe thead th {\n",
       "        text-align: right;\n",
       "    }\n",
       "</style>\n",
       "<table border=\"1\" class=\"dataframe\">\n",
       "  <thead>\n",
       "    <tr style=\"text-align: right;\">\n",
       "      <th></th>\n",
       "      <th>age</th>\n",
       "      <th>job</th>\n",
       "      <th>marital</th>\n",
       "      <th>education</th>\n",
       "      <th>default</th>\n",
       "      <th>housing</th>\n",
       "      <th>loan</th>\n",
       "      <th>contact</th>\n",
       "      <th>month</th>\n",
       "      <th>day_of_week</th>\n",
       "      <th>...</th>\n",
       "      <th>campaign</th>\n",
       "      <th>pdays</th>\n",
       "      <th>previous</th>\n",
       "      <th>poutcome</th>\n",
       "      <th>emp.var.rate</th>\n",
       "      <th>cons.price.idx</th>\n",
       "      <th>cons.conf.idx</th>\n",
       "      <th>euribor3m</th>\n",
       "      <th>nr.employed</th>\n",
       "      <th>subscribed</th>\n",
       "    </tr>\n",
       "  </thead>\n",
       "  <tbody>\n",
       "    <tr>\n",
       "      <th>0</th>\n",
       "      <td>56</td>\n",
       "      <td>housemaid</td>\n",
       "      <td>married</td>\n",
       "      <td>basic.4y</td>\n",
       "      <td>no</td>\n",
       "      <td>no</td>\n",
       "      <td>no</td>\n",
       "      <td>telephone</td>\n",
       "      <td>may</td>\n",
       "      <td>mon</td>\n",
       "      <td>...</td>\n",
       "      <td>1</td>\n",
       "      <td>999</td>\n",
       "      <td>0</td>\n",
       "      <td>nonexistent</td>\n",
       "      <td>1.1</td>\n",
       "      <td>93.994</td>\n",
       "      <td>-36.4</td>\n",
       "      <td>4.857</td>\n",
       "      <td>5191.0</td>\n",
       "      <td>0</td>\n",
       "    </tr>\n",
       "    <tr>\n",
       "      <th>1</th>\n",
       "      <td>57</td>\n",
       "      <td>services</td>\n",
       "      <td>married</td>\n",
       "      <td>high.school</td>\n",
       "      <td>unknown</td>\n",
       "      <td>no</td>\n",
       "      <td>no</td>\n",
       "      <td>telephone</td>\n",
       "      <td>may</td>\n",
       "      <td>mon</td>\n",
       "      <td>...</td>\n",
       "      <td>1</td>\n",
       "      <td>999</td>\n",
       "      <td>0</td>\n",
       "      <td>nonexistent</td>\n",
       "      <td>1.1</td>\n",
       "      <td>93.994</td>\n",
       "      <td>-36.4</td>\n",
       "      <td>4.857</td>\n",
       "      <td>5191.0</td>\n",
       "      <td>0</td>\n",
       "    </tr>\n",
       "    <tr>\n",
       "      <th>2</th>\n",
       "      <td>37</td>\n",
       "      <td>services</td>\n",
       "      <td>married</td>\n",
       "      <td>high.school</td>\n",
       "      <td>no</td>\n",
       "      <td>yes</td>\n",
       "      <td>no</td>\n",
       "      <td>telephone</td>\n",
       "      <td>may</td>\n",
       "      <td>mon</td>\n",
       "      <td>...</td>\n",
       "      <td>1</td>\n",
       "      <td>999</td>\n",
       "      <td>0</td>\n",
       "      <td>nonexistent</td>\n",
       "      <td>1.1</td>\n",
       "      <td>93.994</td>\n",
       "      <td>-36.4</td>\n",
       "      <td>4.857</td>\n",
       "      <td>5191.0</td>\n",
       "      <td>0</td>\n",
       "    </tr>\n",
       "    <tr>\n",
       "      <th>3</th>\n",
       "      <td>40</td>\n",
       "      <td>admin.</td>\n",
       "      <td>married</td>\n",
       "      <td>basic.6y</td>\n",
       "      <td>no</td>\n",
       "      <td>no</td>\n",
       "      <td>no</td>\n",
       "      <td>telephone</td>\n",
       "      <td>may</td>\n",
       "      <td>mon</td>\n",
       "      <td>...</td>\n",
       "      <td>1</td>\n",
       "      <td>999</td>\n",
       "      <td>0</td>\n",
       "      <td>nonexistent</td>\n",
       "      <td>1.1</td>\n",
       "      <td>93.994</td>\n",
       "      <td>-36.4</td>\n",
       "      <td>4.857</td>\n",
       "      <td>5191.0</td>\n",
       "      <td>0</td>\n",
       "    </tr>\n",
       "    <tr>\n",
       "      <th>4</th>\n",
       "      <td>56</td>\n",
       "      <td>services</td>\n",
       "      <td>married</td>\n",
       "      <td>high.school</td>\n",
       "      <td>no</td>\n",
       "      <td>no</td>\n",
       "      <td>yes</td>\n",
       "      <td>telephone</td>\n",
       "      <td>may</td>\n",
       "      <td>mon</td>\n",
       "      <td>...</td>\n",
       "      <td>1</td>\n",
       "      <td>999</td>\n",
       "      <td>0</td>\n",
       "      <td>nonexistent</td>\n",
       "      <td>1.1</td>\n",
       "      <td>93.994</td>\n",
       "      <td>-36.4</td>\n",
       "      <td>4.857</td>\n",
       "      <td>5191.0</td>\n",
       "      <td>0</td>\n",
       "    </tr>\n",
       "  </tbody>\n",
       "</table>\n",
       "<p>5 rows × 21 columns</p>\n",
       "</div>"
      ],
      "text/plain": [
       "   age        job  marital    education  default housing loan    contact  \\\n",
       "0   56  housemaid  married     basic.4y       no      no   no  telephone   \n",
       "1   57   services  married  high.school  unknown      no   no  telephone   \n",
       "2   37   services  married  high.school       no     yes   no  telephone   \n",
       "3   40     admin.  married     basic.6y       no      no   no  telephone   \n",
       "4   56   services  married  high.school       no      no  yes  telephone   \n",
       "\n",
       "  month day_of_week  ...  campaign  pdays  previous     poutcome emp.var.rate  \\\n",
       "0   may         mon  ...         1    999         0  nonexistent          1.1   \n",
       "1   may         mon  ...         1    999         0  nonexistent          1.1   \n",
       "2   may         mon  ...         1    999         0  nonexistent          1.1   \n",
       "3   may         mon  ...         1    999         0  nonexistent          1.1   \n",
       "4   may         mon  ...         1    999         0  nonexistent          1.1   \n",
       "\n",
       "   cons.price.idx  cons.conf.idx  euribor3m  nr.employed  subscribed  \n",
       "0          93.994          -36.4      4.857       5191.0           0  \n",
       "1          93.994          -36.4      4.857       5191.0           0  \n",
       "2          93.994          -36.4      4.857       5191.0           0  \n",
       "3          93.994          -36.4      4.857       5191.0           0  \n",
       "4          93.994          -36.4      4.857       5191.0           0  \n",
       "\n",
       "[5 rows x 21 columns]"
      ]
     },
     "execution_count": 4,
     "metadata": {},
     "output_type": "execute_result"
    }
   ],
   "source": [
    "target_col = \"subscribed\"\n",
    "\n",
    "df[target_col] = df[\"y\"].map({\"no\": 0, \"yes\": 1})\n",
    "df.drop(columns = \"y\", inplace = True)\n",
    "df.head()"
   ]
  },
  {
   "cell_type": "code",
   "execution_count": 5,
   "metadata": {},
   "outputs": [
    {
     "data": {
      "text/plain": [
       "{'contact',\n",
       " 'day_of_week',\n",
       " 'default',\n",
       " 'education',\n",
       " 'housing',\n",
       " 'job',\n",
       " 'loan',\n",
       " 'marital',\n",
       " 'month',\n",
       " 'poutcome'}"
      ]
     },
     "execution_count": 5,
     "metadata": {},
     "output_type": "execute_result"
    }
   ],
   "source": [
    "numeric_cols = df._get_numeric_data().columns\n",
    "categorical_cols = set(df.columns) - set(numeric_cols)\n",
    "categorical_cols"
   ]
  },
  {
   "cell_type": "code",
   "execution_count": 17,
   "metadata": {},
   "outputs": [
    {
     "data": {
      "text/plain": [
       "\u001b[1;31mSignature:\u001b[0m\n",
       "\u001b[0msns\u001b[0m\u001b[1;33m.\u001b[0m\u001b[0mcatplot\u001b[0m\u001b[1;33m(\u001b[0m\u001b[1;33m\n",
       "\u001b[0m    \u001b[0mx\u001b[0m\u001b[1;33m=\u001b[0m\u001b[1;32mNone\u001b[0m\u001b[1;33m,\u001b[0m\u001b[1;33m\n",
       "\u001b[0m    \u001b[0my\u001b[0m\u001b[1;33m=\u001b[0m\u001b[1;32mNone\u001b[0m\u001b[1;33m,\u001b[0m\u001b[1;33m\n",
       "\u001b[0m    \u001b[0mhue\u001b[0m\u001b[1;33m=\u001b[0m\u001b[1;32mNone\u001b[0m\u001b[1;33m,\u001b[0m\u001b[1;33m\n",
       "\u001b[0m    \u001b[0mdata\u001b[0m\u001b[1;33m=\u001b[0m\u001b[1;32mNone\u001b[0m\u001b[1;33m,\u001b[0m\u001b[1;33m\n",
       "\u001b[0m    \u001b[0mrow\u001b[0m\u001b[1;33m=\u001b[0m\u001b[1;32mNone\u001b[0m\u001b[1;33m,\u001b[0m\u001b[1;33m\n",
       "\u001b[0m    \u001b[0mcol\u001b[0m\u001b[1;33m=\u001b[0m\u001b[1;32mNone\u001b[0m\u001b[1;33m,\u001b[0m\u001b[1;33m\n",
       "\u001b[0m    \u001b[0mcol_wrap\u001b[0m\u001b[1;33m=\u001b[0m\u001b[1;32mNone\u001b[0m\u001b[1;33m,\u001b[0m\u001b[1;33m\n",
       "\u001b[0m    \u001b[0mestimator\u001b[0m\u001b[1;33m=\u001b[0m\u001b[1;33m<\u001b[0m\u001b[0mfunction\u001b[0m \u001b[0mmean\u001b[0m \u001b[0mat\u001b[0m \u001b[1;36m0x000001452633CD38\u001b[0m\u001b[1;33m>\u001b[0m\u001b[1;33m,\u001b[0m\u001b[1;33m\n",
       "\u001b[0m    \u001b[0mci\u001b[0m\u001b[1;33m=\u001b[0m\u001b[1;36m95\u001b[0m\u001b[1;33m,\u001b[0m\u001b[1;33m\n",
       "\u001b[0m    \u001b[0mn_boot\u001b[0m\u001b[1;33m=\u001b[0m\u001b[1;36m1000\u001b[0m\u001b[1;33m,\u001b[0m\u001b[1;33m\n",
       "\u001b[0m    \u001b[0munits\u001b[0m\u001b[1;33m=\u001b[0m\u001b[1;32mNone\u001b[0m\u001b[1;33m,\u001b[0m\u001b[1;33m\n",
       "\u001b[0m    \u001b[0mseed\u001b[0m\u001b[1;33m=\u001b[0m\u001b[1;32mNone\u001b[0m\u001b[1;33m,\u001b[0m\u001b[1;33m\n",
       "\u001b[0m    \u001b[0morder\u001b[0m\u001b[1;33m=\u001b[0m\u001b[1;32mNone\u001b[0m\u001b[1;33m,\u001b[0m\u001b[1;33m\n",
       "\u001b[0m    \u001b[0mhue_order\u001b[0m\u001b[1;33m=\u001b[0m\u001b[1;32mNone\u001b[0m\u001b[1;33m,\u001b[0m\u001b[1;33m\n",
       "\u001b[0m    \u001b[0mrow_order\u001b[0m\u001b[1;33m=\u001b[0m\u001b[1;32mNone\u001b[0m\u001b[1;33m,\u001b[0m\u001b[1;33m\n",
       "\u001b[0m    \u001b[0mcol_order\u001b[0m\u001b[1;33m=\u001b[0m\u001b[1;32mNone\u001b[0m\u001b[1;33m,\u001b[0m\u001b[1;33m\n",
       "\u001b[0m    \u001b[0mkind\u001b[0m\u001b[1;33m=\u001b[0m\u001b[1;34m'strip'\u001b[0m\u001b[1;33m,\u001b[0m\u001b[1;33m\n",
       "\u001b[0m    \u001b[0mheight\u001b[0m\u001b[1;33m=\u001b[0m\u001b[1;36m5\u001b[0m\u001b[1;33m,\u001b[0m\u001b[1;33m\n",
       "\u001b[0m    \u001b[0maspect\u001b[0m\u001b[1;33m=\u001b[0m\u001b[1;36m1\u001b[0m\u001b[1;33m,\u001b[0m\u001b[1;33m\n",
       "\u001b[0m    \u001b[0morient\u001b[0m\u001b[1;33m=\u001b[0m\u001b[1;32mNone\u001b[0m\u001b[1;33m,\u001b[0m\u001b[1;33m\n",
       "\u001b[0m    \u001b[0mcolor\u001b[0m\u001b[1;33m=\u001b[0m\u001b[1;32mNone\u001b[0m\u001b[1;33m,\u001b[0m\u001b[1;33m\n",
       "\u001b[0m    \u001b[0mpalette\u001b[0m\u001b[1;33m=\u001b[0m\u001b[1;32mNone\u001b[0m\u001b[1;33m,\u001b[0m\u001b[1;33m\n",
       "\u001b[0m    \u001b[0mlegend\u001b[0m\u001b[1;33m=\u001b[0m\u001b[1;32mTrue\u001b[0m\u001b[1;33m,\u001b[0m\u001b[1;33m\n",
       "\u001b[0m    \u001b[0mlegend_out\u001b[0m\u001b[1;33m=\u001b[0m\u001b[1;32mTrue\u001b[0m\u001b[1;33m,\u001b[0m\u001b[1;33m\n",
       "\u001b[0m    \u001b[0msharex\u001b[0m\u001b[1;33m=\u001b[0m\u001b[1;32mTrue\u001b[0m\u001b[1;33m,\u001b[0m\u001b[1;33m\n",
       "\u001b[0m    \u001b[0msharey\u001b[0m\u001b[1;33m=\u001b[0m\u001b[1;32mTrue\u001b[0m\u001b[1;33m,\u001b[0m\u001b[1;33m\n",
       "\u001b[0m    \u001b[0mmargin_titles\u001b[0m\u001b[1;33m=\u001b[0m\u001b[1;32mFalse\u001b[0m\u001b[1;33m,\u001b[0m\u001b[1;33m\n",
       "\u001b[0m    \u001b[0mfacet_kws\u001b[0m\u001b[1;33m=\u001b[0m\u001b[1;32mNone\u001b[0m\u001b[1;33m,\u001b[0m\u001b[1;33m\n",
       "\u001b[0m    \u001b[1;33m**\u001b[0m\u001b[0mkwargs\u001b[0m\u001b[1;33m,\u001b[0m\u001b[1;33m\n",
       "\u001b[0m\u001b[1;33m)\u001b[0m\u001b[1;33m\u001b[0m\u001b[1;33m\u001b[0m\u001b[0m\n",
       "\u001b[1;31mDocstring:\u001b[0m\n",
       "Figure-level interface for drawing categorical plots onto a\n",
       ":class:`FacetGrid`.\n",
       "\n",
       "This function provides access to several axes-level functions that\n",
       "show the relationship between a numerical and one or more categorical\n",
       "variables using one of several visual representations. The ``kind``\n",
       "parameter selects the underlying axes-level function to use:\n",
       "\n",
       "Categorical scatterplots:\n",
       "\n",
       "- :func:`stripplot` (with ``kind=\"strip\"``; the default)\n",
       "- :func:`swarmplot` (with ``kind=\"swarm\"``)\n",
       "\n",
       "Categorical distribution plots:\n",
       "\n",
       "- :func:`boxplot` (with ``kind=\"box\"``)\n",
       "- :func:`violinplot` (with ``kind=\"violin\"``)\n",
       "- :func:`boxenplot` (with ``kind=\"boxen\"``)\n",
       "\n",
       "Categorical estimate plots:\n",
       "\n",
       "- :func:`pointplot` (with ``kind=\"point\"``)\n",
       "- :func:`barplot` (with ``kind=\"bar\"``)\n",
       "- :func:`countplot` (with ``kind=\"count\"``)\n",
       "\n",
       "Extra keyword arguments are passed to the underlying function, so you\n",
       "should refer to the documentation for each to see kind-specific options.\n",
       "\n",
       "Note that unlike when using the axes-level functions directly, data must be\n",
       "passed in a long-form DataFrame with variables specified by passing strings\n",
       "to ``x``, ``y``, ``hue``, etc.\n",
       "\n",
       "As in the case with the underlying plot functions, if variables have a\n",
       "``categorical`` data type, the the levels of the categorical variables, and\n",
       "their order will be inferred from the objects. Otherwise you may have to\n",
       "use alter the dataframe sorting or use the function parameters (``orient``,\n",
       "``order``, ``hue_order``, etc.) to set up the plot correctly.\n",
       "\n",
       "This function always treats one of the variables as categorical and\n",
       "draws data at ordinal positions (0, 1, ... n) on the relevant axis, even\n",
       "when the data has a numeric or date type.\n",
       "\n",
       "See the :ref:`tutorial <categorical_tutorial>` for more information.    \n",
       "\n",
       "After plotting, the :class:`FacetGrid` with the plot is returned and can\n",
       "be used directly to tweak supporting plot details or add other layers.\n",
       "\n",
       "Parameters\n",
       "----------\n",
       "x, y, hue : names of variables in ``data``\n",
       "    Inputs for plotting long-form data. See examples for interpretation.        \n",
       "data : DataFrame\n",
       "    Long-form (tidy) dataset for plotting. Each column should correspond\n",
       "    to a variable, and each row should correspond to an observation.    \n",
       "row, col : names of variables in ``data``, optional\n",
       "    Categorical variables that will determine the faceting of the grid.\n",
       "col_wrap : int, optional\n",
       "    \"Wrap\" the column variable at this width, so that the column facets\n",
       "    span multiple rows. Incompatible with a ``row`` facet.    \n",
       "estimator : callable that maps vector -> scalar, optional\n",
       "    Statistical function to estimate within each categorical bin.\n",
       "ci : float or \"sd\" or None, optional\n",
       "    Size of confidence intervals to draw around estimated values.  If\n",
       "    \"sd\", skip bootstrapping and draw the standard deviation of the\n",
       "    observations. If ``None``, no bootstrapping will be performed, and\n",
       "    error bars will not be drawn.\n",
       "n_boot : int, optional\n",
       "    Number of bootstrap iterations to use when computing confidence\n",
       "    intervals.\n",
       "units : name of variable in ``data`` or vector data, optional\n",
       "    Identifier of sampling units, which will be used to perform a\n",
       "    multilevel bootstrap and account for repeated measures design.\n",
       "seed : int, numpy.random.Generator, or numpy.random.RandomState, optional\n",
       "    Seed or random number generator for reproducible bootstrapping.    \n",
       "order, hue_order : lists of strings, optional\n",
       "    Order to plot the categorical levels in, otherwise the levels are\n",
       "    inferred from the data objects.        \n",
       "row_order, col_order : lists of strings, optional\n",
       "    Order to organize the rows and/or columns of the grid in, otherwise the\n",
       "    orders are inferred from the data objects.\n",
       "kind : string, optional\n",
       "    The kind of plot to draw (corresponds to the name of a categorical\n",
       "    plotting function. Options are: \"point\", \"bar\", \"strip\", \"swarm\",\n",
       "    \"box\", \"violin\", or \"boxen\".\n",
       "height : scalar, optional\n",
       "    Height (in inches) of each facet. See also: ``aspect``.    \n",
       "aspect : scalar, optional\n",
       "    Aspect ratio of each facet, so that ``aspect * height`` gives the width\n",
       "    of each facet in inches.    \n",
       "orient : \"v\" | \"h\", optional\n",
       "    Orientation of the plot (vertical or horizontal). This is usually\n",
       "    inferred from the dtype of the input variables, but can be used to\n",
       "    specify when the \"categorical\" variable is a numeric or when plotting\n",
       "    wide-form data.    \n",
       "color : matplotlib color, optional\n",
       "    Color for all of the elements, or seed for a gradient palette.    \n",
       "palette : palette name, list, or dict, optional\n",
       "    Colors to use for the different levels of the ``hue`` variable. Should\n",
       "    be something that can be interpreted by :func:`color_palette`, or a\n",
       "    dictionary mapping hue levels to matplotlib colors.    \n",
       "legend : bool, optional\n",
       "    If ``True`` and there is a ``hue`` variable, draw a legend on the plot.\n",
       "legend_out : bool, optional\n",
       "    If ``True``, the figure size will be extended, and the legend will be\n",
       "    drawn outside the plot on the center right.    \n",
       "share{x,y} : bool, 'col', or 'row' optional\n",
       "    If true, the facets will share y axes across columns and/or x axes\n",
       "    across rows.    \n",
       "margin_titles : bool, optional\n",
       "    If ``True``, the titles for the row variable are drawn to the right of\n",
       "    the last column. This option is experimental and may not work in all\n",
       "    cases.    \n",
       "facet_kws : dict, optional\n",
       "    Dictionary of other keyword arguments to pass to :class:`FacetGrid`.\n",
       "kwargs : key, value pairings\n",
       "    Other keyword arguments are passed through to the underlying plotting\n",
       "    function.\n",
       "\n",
       "Returns\n",
       "-------\n",
       "g : :class:`FacetGrid`\n",
       "    Returns the :class:`FacetGrid` object with the plot on it for further\n",
       "    tweaking.\n",
       "\n",
       "Examples\n",
       "--------\n",
       "\n",
       "Draw a single facet to use the :class:`FacetGrid` legend placement:\n",
       "\n",
       ".. plot::\n",
       "    :context: close-figs\n",
       "\n",
       "    >>> import seaborn as sns\n",
       "    >>> sns.set(style=\"ticks\")\n",
       "    >>> exercise = sns.load_dataset(\"exercise\")\n",
       "    >>> g = sns.catplot(x=\"time\", y=\"pulse\", hue=\"kind\", data=exercise)\n",
       "\n",
       "Use a different plot kind to visualize the same data:\n",
       "\n",
       ".. plot::\n",
       "    :context: close-figs\n",
       "\n",
       "    >>> g = sns.catplot(x=\"time\", y=\"pulse\", hue=\"kind\",\n",
       "    ...                data=exercise, kind=\"violin\")\n",
       "\n",
       "Facet along the columns to show a third categorical variable:\n",
       "\n",
       ".. plot::\n",
       "    :context: close-figs\n",
       "\n",
       "    >>> g = sns.catplot(x=\"time\", y=\"pulse\", hue=\"kind\",\n",
       "    ...                 col=\"diet\", data=exercise)\n",
       "\n",
       "Use a different height and aspect ratio for the facets:\n",
       "\n",
       ".. plot::\n",
       "    :context: close-figs\n",
       "\n",
       "    >>> g = sns.catplot(x=\"time\", y=\"pulse\", hue=\"kind\",\n",
       "    ...                 col=\"diet\", data=exercise,\n",
       "    ...                 height=5, aspect=.8)\n",
       "\n",
       "Make many column facets and wrap them into the rows of the grid:\n",
       "\n",
       ".. plot::\n",
       "    :context: close-figs\n",
       "\n",
       "    >>> titanic = sns.load_dataset(\"titanic\")\n",
       "    >>> g = sns.catplot(\"alive\", col=\"deck\", col_wrap=4,\n",
       "    ...                 data=titanic[titanic.deck.notnull()],\n",
       "    ...                 kind=\"count\", height=2.5, aspect=.8)\n",
       "\n",
       "Plot horizontally and pass other keyword arguments to the plot function:\n",
       "\n",
       ".. plot::\n",
       "    :context: close-figs\n",
       "\n",
       "    >>> g = sns.catplot(x=\"age\", y=\"embark_town\",\n",
       "    ...                 hue=\"sex\", row=\"class\",\n",
       "    ...                 data=titanic[titanic.embark_town.notnull()],\n",
       "    ...                 orient=\"h\", height=2, aspect=3, palette=\"Set3\",\n",
       "    ...                 kind=\"violin\", dodge=True, cut=0, bw=.2)\n",
       "\n",
       "Use methods on the returned :class:`FacetGrid` to tweak the presentation:\n",
       "\n",
       ".. plot::\n",
       "    :context: close-figs\n",
       "\n",
       "    >>> g = sns.catplot(x=\"who\", y=\"survived\", col=\"class\",\n",
       "    ...                 data=titanic, saturation=.5,\n",
       "    ...                 kind=\"bar\", ci=None, aspect=.6)\n",
       "    >>> (g.set_axis_labels(\"\", \"Survival Rate\")\n",
       "    ...   .set_xticklabels([\"Men\", \"Women\", \"Children\"])\n",
       "    ...   .set_titles(\"{col_name} {col_var}\")\n",
       "    ...   .set(ylim=(0, 1))\n",
       "    ...   .despine(left=True))  #doctest: +ELLIPSIS\n",
       "    <seaborn.axisgrid.FacetGrid object at 0x...>\n",
       "\u001b[1;31mFile:\u001b[0m      c:\\users\\danil\\appdata\\local\\programs\\python\\python37\\lib\\site-packages\\seaborn\\categorical.py\n",
       "\u001b[1;31mType:\u001b[0m      function\n"
      ]
     },
     "metadata": {},
     "output_type": "display_data"
    }
   ],
   "source": [
    "sns.catplot?"
   ]
  },
  {
   "cell_type": "code",
   "execution_count": 20,
   "metadata": {
    "tags": []
   },
   "outputs": [
    {
     "name": "stdout",
     "output_type": "stream",
     "text": [
      "poutcome\n",
      "Category subscription rates:\n",
      "failure: 0.142\n",
      "nonexistent: 0.088\n",
      "success: 0.651\n"
     ]
    },
    {
     "data": {
      "image/png": "[encoded data removed]",
      "text/plain": [
       "<Figure size 528.359x288 with 1 Axes>"
      ]
     },
     "metadata": {
      "needs_background": "light"
     },
     "output_type": "display_data"
    },
    {
     "name": "stdout",
     "output_type": "stream",
     "text": [
      "day_of_week\n",
      "Category subscription rates:\n",
      "fri: 0.108\n",
      "mon: 0.099\n",
      "thu: 0.121\n",
      "tue: 0.118\n",
      "wed: 0.117\n"
     ]
    },
    {
     "data": {
      "image/png": "[encoded data removed]",
      "text/plain": [
       "<Figure size 528.359x288 with 1 Axes>"
      ]
     },
     "metadata": {
      "needs_background": "light"
     },
     "output_type": "display_data"
    },
    {
     "name": "stdout",
     "output_type": "stream",
     "text": [
      "default\n",
      "Category subscription rates:\n",
      "no: 0.129\n",
      "unknown: 0.052\n",
      "yes: 0.000\n"
     ]
    },
    {
     "data": {
      "image/png": "[encoded data removed]",
      "text/plain": [
       "<Figure size 528.359x288 with 1 Axes>"
      ]
     },
     "metadata": {
      "needs_background": "light"
     },
     "output_type": "display_data"
    },
    {
     "name": "stdout",
     "output_type": "stream",
     "text": [
      "month\n",
      "Category subscription rates:\n",
      "apr: 0.205\n",
      "aug: 0.106\n",
      "dec: 0.489\n",
      "jul: 0.090\n",
      "jun: 0.105\n",
      "mar: 0.505\n",
      "may: 0.064\n",
      "nov: 0.101\n",
      "oct: 0.439\n",
      "sep: 0.449\n"
     ]
    },
    {
     "data": {
      "image/png": "[encoded data removed]",
      "text/plain": [
       "<Figure size 528.359x288 with 1 Axes>"
      ]
     },
     "metadata": {
      "needs_background": "light"
     },
     "output_type": "display_data"
    },
    {
     "name": "stdout",
     "output_type": "stream",
     "text": [
      "loan\n",
      "Category subscription rates:\n",
      "no: 0.113\n",
      "unknown: 0.108\n",
      "yes: 0.109\n"
     ]
    },
    {
     "data": {
      "image/png": "[encoded data removed]",
      "text/plain": [
       "<Figure size 528.359x288 with 1 Axes>"
      ]
     },
     "metadata": {
      "needs_background": "light"
     },
     "output_type": "display_data"
    },
    {
     "name": "stdout",
     "output_type": "stream",
     "text": [
      "contact\n",
      "Category subscription rates:\n",
      "cellular: 0.147\n",
      "telephone: 0.052\n"
     ]
    },
    {
     "data": {
      "image/png": "[encoded data removed]",
      "text/plain": [
       "<Figure size 528.359x288 with 1 Axes>"
      ]
     },
     "metadata": {
      "needs_background": "light"
     },
     "output_type": "display_data"
    },
    {
     "name": "stdout",
     "output_type": "stream",
     "text": [
      "marital\n",
      "Category subscription rates:\n",
      "divorced: 0.103\n",
      "married: 0.102\n",
      "single: 0.140\n",
      "unknown: 0.150\n"
     ]
    },
    {
     "data": {
      "image/png": "[encoded data removed]",
      "text/plain": [
       "<Figure size 528.359x288 with 1 Axes>"
      ]
     },
     "metadata": {
      "needs_background": "light"
     },
     "output_type": "display_data"
    },
    {
     "name": "stdout",
     "output_type": "stream",
     "text": [
      "education\n",
      "Category subscription rates:\n",
      "basic.4y: 0.102\n",
      "basic.6y: 0.082\n",
      "basic.9y: 0.078\n",
      "high.school: 0.108\n",
      "illiterate: 0.222\n",
      "professional.course: 0.113\n",
      "university.degree: 0.137\n",
      "unknown: 0.145\n"
     ]
    },
    {
     "data": {
      "image/png": "[encoded data removed]",
      "text/plain": [
       "<Figure size 528.359x288 with 1 Axes>"
      ]
     },
     "metadata": {
      "needs_background": "light"
     },
     "output_type": "display_data"
    },
    {
     "name": "stdout",
     "output_type": "stream",
     "text": [
      "housing\n",
      "Category subscription rates:\n",
      "no: 0.109\n",
      "unknown: 0.108\n",
      "yes: 0.116\n"
     ]
    },
    {
     "data": {
      "image/png": "[encoded data removed]",
      "text/plain": [
       "<Figure size 528.359x288 with 1 Axes>"
      ]
     },
     "metadata": {
      "needs_background": "light"
     },
     "output_type": "display_data"
    },
    {
     "name": "stdout",
     "output_type": "stream",
     "text": [
      "job\n",
      "Category subscription rates:\n",
      "admin.: 0.130\n",
      "blue-collar: 0.069\n",
      "entrepreneur: 0.085\n",
      "housemaid: 0.100\n",
      "management: 0.112\n",
      "retired: 0.252\n",
      "self-employed: 0.105\n",
      "services: 0.081\n",
      "student: 0.314\n",
      "technician: 0.108\n",
      "unemployed: 0.142\n",
      "unknown: 0.112\n"
     ]
    },
    {
     "data": {
      "image/png": "[encoded data removed]",
      "text/plain": [
       "<Figure size 528.359x288 with 1 Axes>"
      ]
     },
     "metadata": {
      "needs_background": "light"
     },
     "output_type": "display_data"
    }
   ],
   "source": [
    "for col in categorical_cols:\n",
    "    print(col)\n",
    "    categories = sorted(df[col].unique())\n",
    "    category_and_outcome_counts = df.groupby([col, target_col]).count().iloc[:, 0]\n",
    "    category_counts = df.groupby(col).count().iloc[:, 0]\n",
    "    print(\"Category subscription rates:\")\n",
    "    for cat in categories:\n",
    "        try:\n",
    "            print(f\"{cat}: {category_and_outcome_counts.loc[cat].loc[1]/category_counts.loc[cat]:.3f}\")\n",
    "        except KeyError:\n",
    "            print(f\"{cat}: {0.0:.3f}\")\n",
    "    g = sns.catplot(x=col, kind=\"count\", hue=target_col, data=df, height = 4, aspect = 1.618)\n",
    "    plt.xticks(rotation=45)\n",
    "    plt.show()"
   ]
  },
  {
   "cell_type": "markdown",
   "metadata": {},
   "source": [
    "## Mes e ano não precisam ser variáveis categoricas\n",
    "\n",
    "Transformando-as para variáveis contínuas usando seno e cosseno para manter a noção e circularidade (dezembro proximo a janeiro, por exemplo)"
   ]
  },
  {
   "cell_type": "code",
   "execution_count": 7,
   "metadata": {},
   "outputs": [],
   "source": [
    "month_mapper = {v.lower(): k for k,v in enumerate(calendar.month_abbr)}\n",
    "day_maper = {'mon': 2, 'tue': 3, 'wed': 4, 'thu': 5, 'fri': 6}\n",
    "\n",
    "df[\"month_cos\"] = np.cos(2*np.pi*(df[\"month\"].map(month_mapper) - 1)/12)\n",
    "df[\"month_sin\"] = np.sin(2*np.pi*(df[\"month\"].map(month_mapper) - 1)/12)\n",
    "\n",
    "df[\"weekday_cos\"] = np.cos(2*np.pi*(df[\"day_of_week\"].map(day_maper) - 1/2)/7)\n",
    "df[\"weekday_sin\"] = np.sin(2*np.pi*(df[\"day_of_week\"].map(day_maper) - 1/2)/7)\n",
    "\n",
    "df.drop(columns = [\"month\", \"day_of_week\"], inplace = True)"
   ]
  },
  {
   "cell_type": "markdown",
   "metadata": {},
   "source": [
    "### A coluna de \"default\" contém principalmente os valores \"no\" ou \"unknown\", e apenas 3 valores \"yes\", e nestes 3 casos, o valor da variável dependente é 0. Assim, este valor não contém informação estatisticamente relevante para a predição da variável dependente, de forma que podemos excluir os 3 registros e codificá-la como uma variável binária. "
   ]
  },
  {
   "cell_type": "code",
   "execution_count": 8,
   "metadata": {},
   "outputs": [
    {
     "name": "stderr",
     "output_type": "stream",
     "text": [
      "c:\\users\\danil\\appdata\\local\\programs\\python\\python37\\lib\\site-packages\\ipykernel_launcher.py:2: SettingWithCopyWarning: \n",
      "A value is trying to be set on a copy of a slice from a DataFrame.\n",
      "Try using .loc[row_indexer,col_indexer] = value instead\n",
      "\n",
      "See the caveats in the documentation: https://pandas.pydata.org/pandas-docs/stable/user_guide/indexing.html#returning-a-view-versus-a-copy\n",
      "  \n"
     ]
    }
   ],
   "source": [
    "df = df[df[\"default\"] != \"yes\"]\n",
    "df[\"default\"] = df[\"default\"].map({\"no\": 0, \"unknown\": 1})"
   ]
  },
  {
   "cell_type": "markdown",
   "metadata": {},
   "source": [
    "### A coluna housing também contém valores \"yes\", \"no\" e \"unknown\", porém \"unknown\" aparece em poucos registros, e não parece alterar a taxa de subscrição. Assim, podemos remover os registros que contém este valor e transformar a variável categórica em binária"
   ]
  },
  {
   "cell_type": "code",
   "execution_count": 9,
   "metadata": {},
   "outputs": [],
   "source": [
    "df = df[df[\"housing\"] != \"unknown\"]\n",
    "df[\"housing\"] = df[\"housing\"].map({\"no\": 0, \"yes\": 1})"
   ]
  },
  {
   "cell_type": "markdown",
   "metadata": {},
   "source": [
    "### O mesmo vale para a coluna \"loan\""
   ]
  },
  {
   "cell_type": "code",
   "execution_count": 10,
   "metadata": {},
   "outputs": [],
   "source": [
    "df = df[df[\"loan\"] != \"unknown\"]\n",
    "df[\"loan\"] = df[\"loan\"].map({\"no\": 0, \"yes\": 1})"
   ]
  },
  {
   "cell_type": "markdown",
   "metadata": {},
   "source": [
    "### A coluna \"poutcome\" contém o resultado da última chamada, podendo conter o valor \"non existent\" se não houve uma chamada anterior para este cliente. Assim, codificamos esta coluna em duas, sendo \"poutcome_failure\" = 1 se poutcome = \"failure\", \"poutcome_success\" = 1 se poutcome = \"success\", e ambas 0 se poutcome = \"non existent\""
   ]
  },
  {
   "cell_type": "code",
   "execution_count": 11,
   "metadata": {},
   "outputs": [],
   "source": [
    "df[\"poutcome_failure\"] = df[\"poutcome\"].map({\"nonexistent\": 0, \"failure\": 1, \"success\": 0})\n",
    "df[\"poutcome_failure\"] = df[\"poutcome\"].map({\"nonexistent\": 0, \"failure\": 0, \"success\": 1})\n",
    "df.drop(columns = [\"poutcome\"], inplace = True)"
   ]
  },
  {
   "cell_type": "markdown",
   "metadata": {},
   "source": [
    "### O mesmo pode ser feito para a coluna \"marital\", contendo as categorias 'married', 'single', 'divorced' e 'unknown'"
   ]
  },
  {
   "cell_type": "code",
   "execution_count": 12,
   "metadata": {},
   "outputs": [],
   "source": [
    "df[\"marital_single\"] = df[\"marital\"].map({\"married\": 0, \"single\": 1, \"divorced\": 0, \"unknown\": 0})\n",
    "df[\"marital_married\"] = df[\"marital\"].map({\"married\": 1, \"single\": 0, \"divorced\": 0, \"unknown\": 0})\n",
    "df[\"marital_divorced\"] = df[\"marital\"].map({\"married\": 0, \"single\": 0, \"divorced\": 1, \"unknown\": 0})\n",
    "df.drop(columns = [\"marital\"], inplace = True)"
   ]
  },
  {
   "cell_type": "markdown",
   "metadata": {},
   "source": [
    "### A coluna contact pode ser codificada de forma binária, sendo contact = 0 para telefone e 1 para celular"
   ]
  },
  {
   "cell_type": "code",
   "execution_count": 13,
   "metadata": {},
   "outputs": [],
   "source": [
    "df[\"contact\"] = df[\"contact\"].map({\"telephone\": 0, \"cellular\": 1})"
   ]
  },
  {
   "cell_type": "markdown",
   "metadata": {},
   "source": [
    "### Por fim, as colunas \"job\" e \"education\" podem ser codificadas tratadas a codificação one-hot"
   ]
  },
  {
   "cell_type": "code",
   "execution_count": 14,
   "metadata": {},
   "outputs": [],
   "source": [
    "df = pd.get_dummies(df)\n",
    "df.drop(columns = [\"job_unknown\", \"education_unknown\"], inplace = True)"
   ]
  },
  {
   "cell_type": "code",
   "execution_count": 15,
   "metadata": {},
   "outputs": [
    {
     "data": {
      "text/plain": [
       "(40195, 41)"
      ]
     },
     "execution_count": 15,
     "metadata": {},
     "output_type": "execute_result"
    }
   ],
   "source": [
    "df.shape"
   ]
  },
  {
   "cell_type": "markdown",
   "metadata": {},
   "source": [
    "### Ao final do preprocessamento, temos um dataframe com 41 colunas, sendo uma a variável dependente, e 40195 observações. Mesmo com as remoções, ainda acredita-se que há dados suficientes para o treinamento, visto que há 100 vezes mais observações do que possíveis features. Como esta proporção é grande, também não será realizada nenhuma tentativa de redução de dimensionalidade através de métodos como PCA. Por fim, a coluna \"duration\" deve ser removida do dataset, pois é uma informação que está disponível apenas após ligação ser efetuada. Assim, ela não pode ser utilizada como variável preditiva do resultado da chamada."
   ]
  },
  {
   "cell_type": "code",
   "execution_count": 16,
   "metadata": {},
   "outputs": [],
   "source": [
    "df.drop(columns = [\"duration\"], inplace = True)\n",
    "df.rename(columns = {\"campaign\": \"n_contacts_current\", \"previous\": \"n_contacts_previous\"}, inplace = True)"
   ]
  },
  {
   "cell_type": "code",
   "execution_count": 17,
   "metadata": {},
   "outputs": [],
   "source": [
    "if not os.path.exists(os.path.join(\"..\", \"data\", \"preprocessed\")): os.mkdir(os.path.join(\"..\", \"data\", \"preprocessed\"))\n",
    "df.to_csv(os.path.join(\"..\", \"data\", \"preprocessed\", \"bank-additional-full-preprocessed.csv\"), index = False)"
   ]
  },
  {
   "cell_type": "code",
   "execution_count": null,
   "metadata": {},
   "outputs": [],
   "source": []
  }
 ],
 "metadata": {
  "kernelspec": {
   "display_name": "Python 3",
   "language": "python",
   "name": "python3"
  },
  "language_info": {
   "codemirror_mode": {
    "name": "ipython",
    "version": 3
   },
   "file_extension": ".py",
   "mimetype": "text/x-python",
   "name": "python",
   "nbconvert_exporter": "python",
   "pygments_lexer": "ipython3",
   "version": "3.7.8"
  }
 },
 "nbformat": 4,
 "nbformat_minor": 4
}
